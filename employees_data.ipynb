{
 "cells": [
  {
   "cell_type": "markdown",
   "id": "1fd97cf8-59f3-47bf-942c-8dcb3fda3aaf",
   "metadata": {},
   "source": [
    "# **Employee Data (US)**\n",
    "> this dataset is downloaded from kaggle \n",
    "\n",
    "linkedin : https:/www.linkedin.com/in/ahad-moen\n"
   ]
  },
  {
   "cell_type": "markdown",
   "id": "aede4917-822e-4e3d-b73c-655ffece259d",
   "metadata": {},
   "source": [
    "![green-divider](https://user-images.githubusercontent.com/7065401/52071924-c003ad80-2562-11e9-8297-1c6595f8a7ff.png)"
   ]
  },
  {
   "cell_type": "markdown",
   "id": "7ac04fa5-b42f-493e-8dc6-c6f844f89797",
   "metadata": {},
   "source": [
    "### **Reading Data** from file and testing"
   ]
  },
  {
   "cell_type": "code",
   "execution_count": 49,
   "id": "a57683d6-2b16-48de-a785-818b4b996642",
   "metadata": {
    "tags": []
   },
   "outputs": [],
   "source": [
    "import numpy as np \n",
    "import pandas as pd\n",
    "import matplotlib.pyplot as plt\n",
    "import seaborn as sns"
   ]
  },
  {
   "cell_type": "code",
   "execution_count": 17,
   "id": "c476de8b-33ba-4e67-8a3e-10a321ef5c65",
   "metadata": {
    "tags": []
   },
   "outputs": [],
   "source": [
    "emp_df = pd.read_csv('project/employee/employee_data.csv', index_col = 'ID')"
   ]
  },
  {
   "cell_type": "code",
   "execution_count": 19,
   "id": "e2065c7d-3123-402c-a60c-230939ce55db",
   "metadata": {
    "tags": []
   },
   "outputs": [
    {
     "data": {
      "text/html": [
       "<div>\n",
       "<style scoped>\n",
       "    .dataframe tbody tr th:only-of-type {\n",
       "        vertical-align: middle;\n",
       "    }\n",
       "\n",
       "    .dataframe tbody tr th {\n",
       "        vertical-align: top;\n",
       "    }\n",
       "\n",
       "    .dataframe thead th {\n",
       "        text-align: right;\n",
       "    }\n",
       "</style>\n",
       "<table border=\"1\" class=\"dataframe\">\n",
       "  <thead>\n",
       "    <tr style=\"text-align: right;\">\n",
       "      <th></th>\n",
       "      <th>Gender</th>\n",
       "      <th>Experience (Years)</th>\n",
       "      <th>Position</th>\n",
       "      <th>Salary</th>\n",
       "    </tr>\n",
       "    <tr>\n",
       "      <th>ID</th>\n",
       "      <th></th>\n",
       "      <th></th>\n",
       "      <th></th>\n",
       "      <th></th>\n",
       "    </tr>\n",
       "  </thead>\n",
       "  <tbody>\n",
       "    <tr>\n",
       "      <th>1</th>\n",
       "      <td>F</td>\n",
       "      <td>4</td>\n",
       "      <td>DevOps Engineer</td>\n",
       "      <td>109976</td>\n",
       "    </tr>\n",
       "    <tr>\n",
       "      <th>2</th>\n",
       "      <td>M</td>\n",
       "      <td>6</td>\n",
       "      <td>DevOps Engineer</td>\n",
       "      <td>120088</td>\n",
       "    </tr>\n",
       "    <tr>\n",
       "      <th>3</th>\n",
       "      <td>M</td>\n",
       "      <td>17</td>\n",
       "      <td>Web Developer</td>\n",
       "      <td>181301</td>\n",
       "    </tr>\n",
       "    <tr>\n",
       "      <th>4</th>\n",
       "      <td>M</td>\n",
       "      <td>7</td>\n",
       "      <td>Systems Administrator</td>\n",
       "      <td>77530</td>\n",
       "    </tr>\n",
       "    <tr>\n",
       "      <th>5</th>\n",
       "      <td>F</td>\n",
       "      <td>13</td>\n",
       "      <td>Systems Administrator</td>\n",
       "      <td>152397</td>\n",
       "    </tr>\n",
       "  </tbody>\n",
       "</table>\n",
       "</div>"
      ],
      "text/plain": [
       "   Gender  Experience (Years)               Position  Salary\n",
       "ID                                                          \n",
       "1       F                   4        DevOps Engineer  109976\n",
       "2       M                   6        DevOps Engineer  120088\n",
       "3       M                  17          Web Developer  181301\n",
       "4       M                   7  Systems Administrator   77530\n",
       "5       F                  13  Systems Administrator  152397"
      ]
     },
     "execution_count": 19,
     "metadata": {},
     "output_type": "execute_result"
    }
   ],
   "source": [
    "emp_df.head(5)"
   ]
  },
  {
   "cell_type": "markdown",
   "id": "993cbde3-397d-4a2f-8d7c-d6be5bd380c2",
   "metadata": {},
   "source": [
    "<div class='alert alert-block alert-success'>\n",
    "    <b>Success</b>: This box indicates a successful action."
   ]
  },
  {
   "cell_type": "markdown",
   "id": "faf5933c-3d5e-401e-afb0-3080bfcd0c9c",
   "metadata": {},
   "source": [
    "![green-divider](https://user-images.githubusercontent.com/7065401/52071924-c003ad80-2562-11e9-8297-1c6595f8a7ff.png)"
   ]
  },
  {
   "cell_type": "markdown",
   "id": "fa6e5591-9b8e-4e3c-ba45-88ba6c2612aa",
   "metadata": {
    "jp-MarkdownHeadingCollapsed": true,
    "tags": []
   },
   "source": [
    "### Getting overview of Data\n"
   ]
  },
  {
   "cell_type": "code",
   "execution_count": 752,
   "id": "3c7645ef-a0cf-43fd-ab6a-a96a1923eb3c",
   "metadata": {
    "tags": []
   },
   "outputs": [
    {
     "name": "stdout",
     "output_type": "stream",
     "text": [
      "<class 'pandas.core.frame.DataFrame'>\n",
      "Index: 400 entries, 1 to 400\n",
      "Data columns (total 4 columns):\n",
      " #   Column              Non-Null Count  Dtype \n",
      "---  ------              --------------  ----- \n",
      " 0   Gender              400 non-null    object\n",
      " 1   Experience (Years)  400 non-null    int64 \n",
      " 2   Position            400 non-null    object\n",
      " 3   Salary              400 non-null    int64 \n",
      "dtypes: int64(2), object(2)\n",
      "memory usage: 31.8+ KB\n"
     ]
    }
   ],
   "source": [
    "emp_df.info()"
   ]
  },
  {
   "cell_type": "code",
   "execution_count": 35,
   "id": "f8303293-7430-41ed-adc8-7dc3c0f6be35",
   "metadata": {
    "tags": []
   },
   "outputs": [
    {
     "data": {
      "text/html": [
       "<div>\n",
       "<style scoped>\n",
       "    .dataframe tbody tr th:only-of-type {\n",
       "        vertical-align: middle;\n",
       "    }\n",
       "\n",
       "    .dataframe tbody tr th {\n",
       "        vertical-align: top;\n",
       "    }\n",
       "\n",
       "    .dataframe thead th {\n",
       "        text-align: right;\n",
       "    }\n",
       "</style>\n",
       "<table border=\"1\" class=\"dataframe\">\n",
       "  <thead>\n",
       "    <tr style=\"text-align: right;\">\n",
       "      <th></th>\n",
       "      <th>Experience (Years)</th>\n",
       "      <th>Salary</th>\n",
       "    </tr>\n",
       "  </thead>\n",
       "  <tbody>\n",
       "    <tr>\n",
       "      <th>count</th>\n",
       "      <td>400.000000</td>\n",
       "      <td>400.00000</td>\n",
       "    </tr>\n",
       "    <tr>\n",
       "      <th>mean</th>\n",
       "      <td>9.670000</td>\n",
       "      <td>131701.19750</td>\n",
       "    </tr>\n",
       "    <tr>\n",
       "      <th>std</th>\n",
       "      <td>6.101571</td>\n",
       "      <td>43351.50899</td>\n",
       "    </tr>\n",
       "    <tr>\n",
       "      <th>min</th>\n",
       "      <td>0.000000</td>\n",
       "      <td>43643.00000</td>\n",
       "    </tr>\n",
       "    <tr>\n",
       "      <th>25%</th>\n",
       "      <td>4.000000</td>\n",
       "      <td>100484.75000</td>\n",
       "    </tr>\n",
       "    <tr>\n",
       "      <th>50%</th>\n",
       "      <td>10.000000</td>\n",
       "      <td>128561.50000</td>\n",
       "    </tr>\n",
       "    <tr>\n",
       "      <th>75%</th>\n",
       "      <td>15.000000</td>\n",
       "      <td>157735.00000</td>\n",
       "    </tr>\n",
       "    <tr>\n",
       "      <th>max</th>\n",
       "      <td>20.000000</td>\n",
       "      <td>269950.00000</td>\n",
       "    </tr>\n",
       "  </tbody>\n",
       "</table>\n",
       "</div>"
      ],
      "text/plain": [
       "       Experience (Years)        Salary\n",
       "count          400.000000     400.00000\n",
       "mean             9.670000  131701.19750\n",
       "std              6.101571   43351.50899\n",
       "min              0.000000   43643.00000\n",
       "25%              4.000000  100484.75000\n",
       "50%             10.000000  128561.50000\n",
       "75%             15.000000  157735.00000\n",
       "max             20.000000  269950.00000"
      ]
     },
     "execution_count": 35,
     "metadata": {},
     "output_type": "execute_result"
    }
   ],
   "source": [
    "emp_df.describe()"
   ]
  },
  {
   "cell_type": "code",
   "execution_count": 39,
   "id": "036f4377-dbdb-4135-b5fc-f67441a133c0",
   "metadata": {
    "tags": []
   },
   "outputs": [
    {
     "data": {
      "text/plain": [
       "175052.70649"
      ]
     },
     "execution_count": 39,
     "metadata": {},
     "output_type": "execute_result"
    }
   ],
   "source": [
    "131701.19750+43351.50899"
   ]
  },
  {
   "cell_type": "markdown",
   "id": "0d56692c-1694-4f3d-b1b3-fa42d7d32533",
   "metadata": {},
   "source": [
    "From info() we can see there is no missing data in our dataset and describe tell about basicality of Data.\n",
    "> ##### **Experience:**  \n",
    "mean is **9.5** and by std we can conclude we have emp of mostly **3 years to 15 year exp**.\n",
    "> ##### **Salary:** \n",
    "mean **131701** and by std we can conclude we have emp of mostly **88349 to 175052 salaries emp**"
   ]
  },
  {
   "cell_type": "markdown",
   "id": "1c9c21f1-76f6-49b2-8dfb-314e64ebb1bb",
   "metadata": {},
   "source": [
    "![green-divider](https://user-images.githubusercontent.com/7065401/52071924-c003ad80-2562-11e9-8297-1c6595f8a7ff.png)"
   ]
  },
  {
   "cell_type": "markdown",
   "id": "0c0a729c-0ffd-41b8-b457-e8648138c3e9",
   "metadata": {},
   "source": [
    "### **Indentifying Outliers**"
   ]
  },
  {
   "cell_type": "markdown",
   "id": "b53b2c8c-ea00-4faf-b0b5-ba5a903eda20",
   "metadata": {},
   "source": [
    "**we removes the outliers, as mean really affected by outlieaars for further calculations**"
   ]
  },
  {
   "cell_type": "code",
   "execution_count": 70,
   "id": "4e54c74b-2f22-4d1d-96dc-0b5074eb5451",
   "metadata": {
    "tags": []
   },
   "outputs": [
    {
     "name": "stdout",
     "output_type": "stream",
     "text": [
      "Index(['Gender', 'Experience (Years)', 'Position', 'Salary'], dtype='object')\n"
     ]
    }
   ],
   "source": [
    "print(emp_df.columns)"
   ]
  },
  {
   "cell_type": "code",
   "execution_count": 66,
   "id": "a2e8fba6-f274-4463-bd29-c41d068e146a",
   "metadata": {
    "tags": []
   },
   "outputs": [],
   "source": [
    "emp_df.columns = emp_df.columns.str.strip()\n"
   ]
  },
  {
   "cell_type": "code",
   "execution_count": 153,
   "id": "9e2af1f2-c0ff-4f62-ad4c-89bfe9baa8a2",
   "metadata": {
    "tags": []
   },
   "outputs": [],
   "source": [
    "sns.set_style('whitegrid')"
   ]
  },
  {
   "cell_type": "code",
   "execution_count": 610,
   "id": "13eec6a5-e3a0-4346-b067-71681f8a8e1e",
   "metadata": {
    "tags": []
   },
   "outputs": [
    {
     "data": {
      "text/plain": [
       "Text(0.5, 1.0, 'Experience (Years) Boxplot')"
      ]
     },
     "execution_count": 610,
     "metadata": {},
     "output_type": "execute_result"
    },
    {
     "data": {
      "image/png": "[encoded data removed]",
      "text/plain": [
       "<Figure size 1200x600 with 1 Axes>"
      ]
     },
     "metadata": {},
     "output_type": "display_data"
    }
   ],
   "source": [
    "plt.figure(figsize=(12,6))\n",
    "sns.boxplot(x = emp_df['Experience (Years)'], color ='skyblue').set_title('Experience (Years) Boxplot')"
   ]
  },
  {
   "cell_type": "code",
   "execution_count": 608,
   "id": "3f3ceb75-4e5a-49b3-b88e-f979cde08341",
   "metadata": {
    "tags": []
   },
   "outputs": [
    {
     "data": {
      "text/plain": [
       "Text(0.5, 1.0, 'Salary Boxplot Before Removing Outlier')"
      ]
     },
     "execution_count": 608,
     "metadata": {},
     "output_type": "execute_result"
    },
    {
     "data": {
      "image/png": "[encoded data removed]",
      "text/plain": [
       "<Figure size 1200x600 with 1 Axes>"
      ]
     },
     "metadata": {},
     "output_type": "display_data"
    }
   ],
   "source": [
    "plt.figure(figsize=(12,6))\n",
    "sns.boxplot(x = emp_df['Salary'],color ='skyblue').set_title('Salary Boxplot Before Removing Outlier')"
   ]
  },
  {
   "cell_type": "markdown",
   "id": "c23bfc48-c32b-4688-b7dc-0c6e30c5df05",
   "metadata": {},
   "source": [
    "**from the boxplot we conclude that,** \n",
    "> #### **Experience:** have no outliers\n",
    "> #### **Salary:** have apperently **5 outliers**"
   ]
  },
  {
   "cell_type": "markdown",
   "id": "0ae01eca-577b-43c3-bf8a-29b3f23cf9cd",
   "metadata": {},
   "source": [
    "![green-divider](https://user-images.githubusercontent.com/7065401/52071924-c003ad80-2562-11e9-8297-1c6595f8a7ff.png)"
   ]
  },
  {
   "cell_type": "markdown",
   "id": "6ddbbbe5-f33d-4ceb-9bef-21396229c7bb",
   "metadata": {},
   "source": [
    "### Data Cleaning\n"
   ]
  },
  {
   "cell_type": "markdown",
   "id": "a0a62890-63c3-4e5d-941b-bf97cec551d2",
   "metadata": {},
   "source": [
    "**Extracting Outliers**"
   ]
  },
  {
   "cell_type": "code",
   "execution_count": 197,
   "id": "a8af8797-f222-4b5b-9b08-3798763572b7",
   "metadata": {
    "tags": []
   },
   "outputs": [],
   "source": [
    "# Calculate Q1 (25th percentile) and Q3 (75th percentile)\n",
    "Q1 = emp_df['Salary'].quantile(0.25)\n",
    "Q3 = emp_df['Salary'].quantile(0.75)\n",
    "\n",
    "# Calculate IQR\n",
    "IQR = Q3 - Q1\n",
    "\n",
    "\n",
    "upper_bound = Q3 + 1.4 * IQR"
   ]
  },
  {
   "cell_type": "markdown",
   "id": "4a759c6c-186a-480e-90cc-aadabdb47b64",
   "metadata": {},
   "source": [
    "> The commonly use multiplier is 1.5, but as analyzing our need i adjust the multiplier to 1.4 for removing outliers"
   ]
  },
  {
   "cell_type": "code",
   "execution_count": 702,
   "id": "b0257d23-7bcc-4ca7-8ed5-d18a26279ddf",
   "metadata": {
    "tags": []
   },
   "outputs": [
    {
     "data": {
      "text/html": [
       "<div>\n",
       "<style scoped>\n",
       "    .dataframe tbody tr th:only-of-type {\n",
       "        vertical-align: middle;\n",
       "    }\n",
       "\n",
       "    .dataframe tbody tr th {\n",
       "        vertical-align: top;\n",
       "    }\n",
       "\n",
       "    .dataframe thead th {\n",
       "        text-align: right;\n",
       "    }\n",
       "</style>\n",
       "<table border=\"1\" class=\"dataframe\">\n",
       "  <thead>\n",
       "    <tr style=\"text-align: right;\">\n",
       "      <th></th>\n",
       "      <th>Gender</th>\n",
       "      <th>Experience (Years)</th>\n",
       "      <th>Position</th>\n",
       "      <th>Salary</th>\n",
       "    </tr>\n",
       "    <tr>\n",
       "      <th>ID</th>\n",
       "      <th></th>\n",
       "      <th></th>\n",
       "      <th></th>\n",
       "      <th></th>\n",
       "    </tr>\n",
       "  </thead>\n",
       "  <tbody>\n",
       "    <tr>\n",
       "      <th>318</th>\n",
       "      <td>M</td>\n",
       "      <td>18</td>\n",
       "      <td>Cloud Solutions Architect</td>\n",
       "      <td>242808</td>\n",
       "    </tr>\n",
       "    <tr>\n",
       "      <th>348</th>\n",
       "      <td>F</td>\n",
       "      <td>19</td>\n",
       "      <td>DevOps Engineer</td>\n",
       "      <td>242819</td>\n",
       "    </tr>\n",
       "    <tr>\n",
       "      <th>162</th>\n",
       "      <td>M</td>\n",
       "      <td>17</td>\n",
       "      <td>IT Manager</td>\n",
       "      <td>244446</td>\n",
       "    </tr>\n",
       "    <tr>\n",
       "      <th>260</th>\n",
       "      <td>M</td>\n",
       "      <td>14</td>\n",
       "      <td>Cloud Solutions Architect</td>\n",
       "      <td>252949</td>\n",
       "    </tr>\n",
       "    <tr>\n",
       "      <th>62</th>\n",
       "      <td>M</td>\n",
       "      <td>17</td>\n",
       "      <td>IT Manager</td>\n",
       "      <td>260594</td>\n",
       "    </tr>\n",
       "    <tr>\n",
       "      <th>121</th>\n",
       "      <td>F</td>\n",
       "      <td>18</td>\n",
       "      <td>IT Manager</td>\n",
       "      <td>268774</td>\n",
       "    </tr>\n",
       "    <tr>\n",
       "      <th>116</th>\n",
       "      <td>M</td>\n",
       "      <td>18</td>\n",
       "      <td>IT Manager</td>\n",
       "      <td>269950</td>\n",
       "    </tr>\n",
       "  </tbody>\n",
       "</table>\n",
       "</div>"
      ],
      "text/plain": [
       "    Gender  Experience (Years)                   Position  Salary\n",
       "ID                                                               \n",
       "318      M                  18  Cloud Solutions Architect  242808\n",
       "348      F                  19            DevOps Engineer  242819\n",
       "162      M                  17                 IT Manager  244446\n",
       "260      M                  14  Cloud Solutions Architect  252949\n",
       "62       M                  17                 IT Manager  260594\n",
       "121      F                  18                 IT Manager  268774\n",
       "116      M                  18                 IT Manager  269950"
      ]
     },
     "execution_count": 702,
     "metadata": {},
     "output_type": "execute_result"
    }
   ],
   "source": [
    "emp_df[emp_df['Salary'] >= upper_bound].sort_values(by = 'Salary')"
   ]
  },
  {
   "cell_type": "code",
   "execution_count": 850,
   "id": "f6b5918d-2de0-411f-8a92-d08b25488ddd",
   "metadata": {
    "tags": []
   },
   "outputs": [],
   "source": [
    "filtered_emp_df = emp_df[emp_df['Salary'] <= upper_bound]"
   ]
  },
  {
   "cell_type": "code",
   "execution_count": 606,
   "id": "6dd0f7ae-e400-4319-80f4-e5552ecc2f0b",
   "metadata": {
    "tags": []
   },
   "outputs": [
    {
     "data": {
      "image/png": "[encoded data removed]",
      "text/plain": [
       "<Figure size 1200x600 with 1 Axes>"
      ]
     },
     "metadata": {},
     "output_type": "display_data"
    }
   ],
   "source": [
    "plt.figure(figsize=(12,6))\n",
    "plot = sns.boxplot(x = filtered_emp_df['Salary'], color ='skyblue').set_title('Salary Boxplot After Removing Outlier')"
   ]
  },
  {
   "cell_type": "markdown",
   "id": "722e2a9c-48b7-4131-8dfd-a14f66df5e7e",
   "metadata": {
    "tags": []
   },
   "source": [
    "![green-divider](https://user-images.githubusercontent.com/7065401/52071924-c003ad80-2562-11e9-8297-1c6595f8a7ff.png)"
   ]
  },
  {
   "cell_type": "markdown",
   "id": "134dea2d-8449-4d8d-9389-cf74ba69ac41",
   "metadata": {},
   "source": [
    "### Extracting EMP base on salaries"
   ]
  },
  {
   "cell_type": "markdown",
   "id": "61c1d3c8-9718-438d-9267-0123c984899d",
   "metadata": {},
   "source": [
    " **Employees that have higher salaries**"
   ]
  },
  {
   "cell_type": "code",
   "execution_count": 350,
   "id": "8955414f-576b-445f-919f-e1f5c0c7f0de",
   "metadata": {
    "tags": []
   },
   "outputs": [],
   "source": [
    "higher_pay_emp = filtered_emp_df[filtered_emp_df['Salary'] >= 200000]"
   ]
  },
  {
   "cell_type": "code",
   "execution_count": 352,
   "id": "7f2fa106-0e39-48f2-860f-b8cac524e842",
   "metadata": {
    "tags": []
   },
   "outputs": [
    {
     "data": {
      "text/html": [
       "<div>\n",
       "<style scoped>\n",
       "    .dataframe tbody tr th:only-of-type {\n",
       "        vertical-align: middle;\n",
       "    }\n",
       "\n",
       "    .dataframe tbody tr th {\n",
       "        vertical-align: top;\n",
       "    }\n",
       "\n",
       "    .dataframe thead th {\n",
       "        text-align: right;\n",
       "    }\n",
       "</style>\n",
       "<table border=\"1\" class=\"dataframe\">\n",
       "  <thead>\n",
       "    <tr style=\"text-align: right;\">\n",
       "      <th></th>\n",
       "      <th>Gender</th>\n",
       "      <th>Experience (Years)</th>\n",
       "      <th>Position</th>\n",
       "      <th>Salary</th>\n",
       "    </tr>\n",
       "    <tr>\n",
       "      <th>ID</th>\n",
       "      <th></th>\n",
       "      <th></th>\n",
       "      <th></th>\n",
       "      <th></th>\n",
       "    </tr>\n",
       "  </thead>\n",
       "  <tbody>\n",
       "    <tr>\n",
       "      <th>22</th>\n",
       "      <td>F</td>\n",
       "      <td>19</td>\n",
       "      <td>IT Security Analyst</td>\n",
       "      <td>232972</td>\n",
       "    </tr>\n",
       "    <tr>\n",
       "      <th>24</th>\n",
       "      <td>F</td>\n",
       "      <td>13</td>\n",
       "      <td>IT Manager</td>\n",
       "      <td>235235</td>\n",
       "    </tr>\n",
       "    <tr>\n",
       "      <th>71</th>\n",
       "      <td>F</td>\n",
       "      <td>19</td>\n",
       "      <td>Cloud Solutions Architect</td>\n",
       "      <td>226461</td>\n",
       "    </tr>\n",
       "    <tr>\n",
       "      <th>97</th>\n",
       "      <td>F</td>\n",
       "      <td>12</td>\n",
       "      <td>IT Manager</td>\n",
       "      <td>207518</td>\n",
       "    </tr>\n",
       "    <tr>\n",
       "      <th>108</th>\n",
       "      <td>M</td>\n",
       "      <td>14</td>\n",
       "      <td>IT Manager</td>\n",
       "      <td>205579</td>\n",
       "    </tr>\n",
       "    <tr>\n",
       "      <th>117</th>\n",
       "      <td>M</td>\n",
       "      <td>16</td>\n",
       "      <td>DevOps Engineer</td>\n",
       "      <td>214282</td>\n",
       "    </tr>\n",
       "    <tr>\n",
       "      <th>120</th>\n",
       "      <td>F</td>\n",
       "      <td>17</td>\n",
       "      <td>DevOps Engineer</td>\n",
       "      <td>230965</td>\n",
       "    </tr>\n",
       "    <tr>\n",
       "      <th>124</th>\n",
       "      <td>M</td>\n",
       "      <td>18</td>\n",
       "      <td>Software Engineer</td>\n",
       "      <td>215034</td>\n",
       "    </tr>\n",
       "    <tr>\n",
       "      <th>145</th>\n",
       "      <td>M</td>\n",
       "      <td>12</td>\n",
       "      <td>Cloud Solutions Architect</td>\n",
       "      <td>217422</td>\n",
       "    </tr>\n",
       "    <tr>\n",
       "      <th>151</th>\n",
       "      <td>M</td>\n",
       "      <td>16</td>\n",
       "      <td>IT Security Analyst</td>\n",
       "      <td>207529</td>\n",
       "    </tr>\n",
       "    <tr>\n",
       "      <th>197</th>\n",
       "      <td>F</td>\n",
       "      <td>18</td>\n",
       "      <td>IT Security Analyst</td>\n",
       "      <td>224671</td>\n",
       "    </tr>\n",
       "    <tr>\n",
       "      <th>227</th>\n",
       "      <td>M</td>\n",
       "      <td>20</td>\n",
       "      <td>DevOps Engineer</td>\n",
       "      <td>218258</td>\n",
       "    </tr>\n",
       "    <tr>\n",
       "      <th>232</th>\n",
       "      <td>M</td>\n",
       "      <td>14</td>\n",
       "      <td>IT Manager</td>\n",
       "      <td>204549</td>\n",
       "    </tr>\n",
       "    <tr>\n",
       "      <th>304</th>\n",
       "      <td>F</td>\n",
       "      <td>10</td>\n",
       "      <td>IT Manager</td>\n",
       "      <td>200409</td>\n",
       "    </tr>\n",
       "    <tr>\n",
       "      <th>317</th>\n",
       "      <td>F</td>\n",
       "      <td>20</td>\n",
       "      <td>Systems Analyst</td>\n",
       "      <td>206324</td>\n",
       "    </tr>\n",
       "    <tr>\n",
       "      <th>327</th>\n",
       "      <td>F</td>\n",
       "      <td>15</td>\n",
       "      <td>DevOps Engineer</td>\n",
       "      <td>211620</td>\n",
       "    </tr>\n",
       "    <tr>\n",
       "      <th>332</th>\n",
       "      <td>M</td>\n",
       "      <td>20</td>\n",
       "      <td>Database Administrator (DBA)</td>\n",
       "      <td>214420</td>\n",
       "    </tr>\n",
       "    <tr>\n",
       "      <th>333</th>\n",
       "      <td>M</td>\n",
       "      <td>20</td>\n",
       "      <td>DevOps Engineer</td>\n",
       "      <td>205418</td>\n",
       "    </tr>\n",
       "    <tr>\n",
       "      <th>351</th>\n",
       "      <td>M</td>\n",
       "      <td>19</td>\n",
       "      <td>Cloud Solutions Architect</td>\n",
       "      <td>229450</td>\n",
       "    </tr>\n",
       "    <tr>\n",
       "      <th>362</th>\n",
       "      <td>F</td>\n",
       "      <td>18</td>\n",
       "      <td>DevOps Engineer</td>\n",
       "      <td>211696</td>\n",
       "    </tr>\n",
       "    <tr>\n",
       "      <th>364</th>\n",
       "      <td>F</td>\n",
       "      <td>12</td>\n",
       "      <td>DevOps Engineer</td>\n",
       "      <td>200228</td>\n",
       "    </tr>\n",
       "    <tr>\n",
       "      <th>396</th>\n",
       "      <td>F</td>\n",
       "      <td>19</td>\n",
       "      <td>Cloud Solutions Architect</td>\n",
       "      <td>236045</td>\n",
       "    </tr>\n",
       "  </tbody>\n",
       "</table>\n",
       "</div>"
      ],
      "text/plain": [
       "    Gender  Experience (Years)                      Position  Salary\n",
       "ID                                                                  \n",
       "22       F                  19           IT Security Analyst  232972\n",
       "24       F                  13                    IT Manager  235235\n",
       "71       F                  19     Cloud Solutions Architect  226461\n",
       "97       F                  12                    IT Manager  207518\n",
       "108      M                  14                    IT Manager  205579\n",
       "117      M                  16               DevOps Engineer  214282\n",
       "120      F                  17               DevOps Engineer  230965\n",
       "124      M                  18             Software Engineer  215034\n",
       "145      M                  12     Cloud Solutions Architect  217422\n",
       "151      M                  16           IT Security Analyst  207529\n",
       "197      F                  18           IT Security Analyst  224671\n",
       "227      M                  20               DevOps Engineer  218258\n",
       "232      M                  14                    IT Manager  204549\n",
       "304      F                  10                    IT Manager  200409\n",
       "317      F                  20               Systems Analyst  206324\n",
       "327      F                  15               DevOps Engineer  211620\n",
       "332      M                  20  Database Administrator (DBA)  214420\n",
       "333      M                  20               DevOps Engineer  205418\n",
       "351      M                  19     Cloud Solutions Architect  229450\n",
       "362      F                  18               DevOps Engineer  211696\n",
       "364      F                  12               DevOps Engineer  200228\n",
       "396      F                  19     Cloud Solutions Architect  236045"
      ]
     },
     "execution_count": 352,
     "metadata": {},
     "output_type": "execute_result"
    }
   ],
   "source": [
    "higher_pay_emp"
   ]
  },
  {
   "cell_type": "markdown",
   "id": "6df0de39-16e4-48bf-93a6-ca07156ab4e2",
   "metadata": {},
   "source": [
    "**Highest Male Salary**"
   ]
  },
  {
   "cell_type": "code",
   "execution_count": 329,
   "id": "341e1e24-140d-45b2-bc94-9e33069fbd65",
   "metadata": {
    "tags": []
   },
   "outputs": [
    {
     "name": "stdout",
     "output_type": "stream",
     "text": [
      "Highest salary among males: 229450\n"
     ]
    }
   ],
   "source": [
    "filtered_male_df = filtered_emp_df[[ 'Gender', 'Salary']][filtered_emp_df['Gender'] == 'M']\n",
    "\n",
    "# Find the highest salary among males\n",
    "highest_male_sal = filtered_male_df['Salary'].max()\n",
    "\n",
    "print(\"Highest salary among males:\", highest_male_sal)"
   ]
  },
  {
   "cell_type": "markdown",
   "id": "a3078737-86be-4dc2-a44c-5ba6641d9142",
   "metadata": {},
   "source": [
    "**Lowest Male Salary**"
   ]
  },
  {
   "cell_type": "code",
   "execution_count": 377,
   "id": "6828109b-e3bd-44e5-8755-3fc4b46b1504",
   "metadata": {
    "tags": []
   },
   "outputs": [
    {
     "name": "stdout",
     "output_type": "stream",
     "text": [
      "Lowest salary among males: 48710\n"
     ]
    }
   ],
   "source": [
    "filtered_male_df = filtered_emp_df[[ 'Gender', 'Salary']][filtered_emp_df['Gender'] == 'M']\n",
    "\n",
    "lowest_male_sal = filtered_male_df['Salary'].min()\n",
    "\n",
    "print(\"Lowest salary among males:\", lowest_male_sal)"
   ]
  },
  {
   "cell_type": "markdown",
   "id": "e7d6ccd1-5f8d-4051-9459-f205a4234bba",
   "metadata": {
    "tags": []
   },
   "source": [
    "**Highest Female Salary**"
   ]
  },
  {
   "cell_type": "code",
   "execution_count": 333,
   "id": "8f53a7b1-63c1-4bcb-9579-e406ab2fcc7c",
   "metadata": {
    "tags": []
   },
   "outputs": [
    {
     "name": "stdout",
     "output_type": "stream",
     "text": [
      "Highest salary among males: 236045\n"
     ]
    }
   ],
   "source": [
    "filtered_female_df = filtered_emp_df[[ 'Gender', 'Salary']][filtered_emp_df['Gender'] == 'F']\n",
    "\n",
    "# Find the highest salary among females\n",
    "highest_female_sal = filtered_female_df['Salary'].max()\n",
    "\n",
    "print(\"Highest salary among males:\", highest_female_sal)"
   ]
  },
  {
   "cell_type": "markdown",
   "id": "dd423839-ca0e-471e-8d1f-14f637b718bb",
   "metadata": {},
   "source": [
    "**Lowest Female Salary**"
   ]
  },
  {
   "cell_type": "code",
   "execution_count": 380,
   "id": "384cc754-7a59-4ce6-866e-68b881dd90ee",
   "metadata": {
    "tags": []
   },
   "outputs": [
    {
     "name": "stdout",
     "output_type": "stream",
     "text": [
      "Lowest salary among males: 43643\n"
     ]
    }
   ],
   "source": [
    "filtered_female_df = filtered_emp_df[[ 'Gender', 'Salary']][filtered_emp_df['Gender'] == 'F']\n",
    "\n",
    "lowest_female_sal = filtered_female_df['Salary'].min()\n",
    "\n",
    "print(\"Lowest salary among males:\", lowest_female_sal)"
   ]
  },
  {
   "cell_type": "markdown",
   "id": "3b301435-3ec4-4ba9-95ae-792eb89a52d2",
   "metadata": {
    "tags": []
   },
   "source": [
    "![green-divider](https://user-images.githubusercontent.com/7065401/52071924-c003ad80-2562-11e9-8297-1c6595f8a7ff.png)"
   ]
  },
  {
   "cell_type": "markdown",
   "id": "18639a06-e0db-4d03-8e50-5ea9734323e4",
   "metadata": {
    "tags": []
   },
   "source": [
    "### Dependency Salary increment on Experience"
   ]
  },
  {
   "cell_type": "code",
   "execution_count": 365,
   "id": "324b9b06-be46-49c3-8525-a7755bf44527",
   "metadata": {
    "tags": []
   },
   "outputs": [
    {
     "data": {
      "text/plain": [
       "0.6093419374642316"
      ]
     },
     "execution_count": 365,
     "metadata": {},
     "output_type": "execute_result"
    }
   ],
   "source": [
    "filtered_emp_df['Experience (Years)'].corr( filtered_emp_df['Salary'])"
   ]
  },
  {
   "cell_type": "code",
   "execution_count": 566,
   "id": "9ae30232-27fd-449c-b05f-bee9ae5b717a",
   "metadata": {
    "tags": []
   },
   "outputs": [
    {
     "data": {
      "image/png": "[encoded data removed]",
      "text/plain": [
       "<Figure size 1000x600 with 1 Axes>"
      ]
     },
     "metadata": {},
     "output_type": "display_data"
    }
   ],
   "source": [
    "df_sorted = filtered_emp_df.sort_values(by='Experience (Years)')\n",
    "\n",
    "# Plotting\n",
    "plt.figure(figsize=(10, 6))\n",
    "sns.lineplot(data=df_sorted, x='Experience (Years)', y='Salary', marker='o', color='skyblue')\n",
    "plt.xlabel('Experience (Years)')\n",
    "plt.ylabel('Salary')\n",
    "plt.title('Salary vs. Experience (Years)')\n",
    "plt.grid(True)\n",
    "plt.show()"
   ]
  },
  {
   "cell_type": "markdown",
   "id": "dd9056c3-2f2b-4353-9cdf-b7bcc0ac4c36",
   "metadata": {},
   "source": [
    "**it shows salary increases by as experience increase**"
   ]
  },
  {
   "cell_type": "markdown",
   "id": "24784302-bd40-4d86-9677-5f4a8f72b076",
   "metadata": {
    "tags": []
   },
   "source": [
    "![green-divider](https://user-images.githubusercontent.com/7065401/52071924-c003ad80-2562-11e9-8297-1c6595f8a7ff.png)"
   ]
  },
  {
   "cell_type": "markdown",
   "id": "32d73316-6395-43e1-b2b4-f7d278522676",
   "metadata": {},
   "source": [
    "### Grouping Data for Position Analysis"
   ]
  },
  {
   "cell_type": "code",
   "execution_count": 273,
   "id": "9e3bccbd-6fd5-494f-8d37-6c76e63f0f7f",
   "metadata": {
    "tags": []
   },
   "outputs": [],
   "source": [
    "salary_distribution = filtered_emp_df.groupby('Position')['Salary'].describe()"
   ]
  },
  {
   "cell_type": "code",
   "execution_count": 275,
   "id": "37bd7c5d-c4d7-4f19-b685-ca8ece7e1483",
   "metadata": {
    "tags": []
   },
   "outputs": [
    {
     "data": {
      "text/html": [
       "<div>\n",
       "<style scoped>\n",
       "    .dataframe tbody tr th:only-of-type {\n",
       "        vertical-align: middle;\n",
       "    }\n",
       "\n",
       "    .dataframe tbody tr th {\n",
       "        vertical-align: top;\n",
       "    }\n",
       "\n",
       "    .dataframe thead th {\n",
       "        text-align: right;\n",
       "    }\n",
       "</style>\n",
       "<table border=\"1\" class=\"dataframe\">\n",
       "  <thead>\n",
       "    <tr style=\"text-align: right;\">\n",
       "      <th></th>\n",
       "      <th>count</th>\n",
       "      <th>mean</th>\n",
       "      <th>std</th>\n",
       "      <th>min</th>\n",
       "      <th>25%</th>\n",
       "      <th>50%</th>\n",
       "      <th>75%</th>\n",
       "      <th>max</th>\n",
       "    </tr>\n",
       "    <tr>\n",
       "      <th>Position</th>\n",
       "      <th></th>\n",
       "      <th></th>\n",
       "      <th></th>\n",
       "      <th></th>\n",
       "      <th></th>\n",
       "      <th></th>\n",
       "      <th></th>\n",
       "      <th></th>\n",
       "    </tr>\n",
       "  </thead>\n",
       "  <tbody>\n",
       "    <tr>\n",
       "      <th>Cloud Solutions Architect</th>\n",
       "      <td>28.0</td>\n",
       "      <td>154624.714286</td>\n",
       "      <td>40511.614561</td>\n",
       "      <td>92288.0</td>\n",
       "      <td>127063.75</td>\n",
       "      <td>147967.0</td>\n",
       "      <td>177814.75</td>\n",
       "      <td>236045.0</td>\n",
       "    </tr>\n",
       "    <tr>\n",
       "      <th>Database Administrator (DBA)</th>\n",
       "      <td>38.0</td>\n",
       "      <td>132864.552632</td>\n",
       "      <td>32989.308937</td>\n",
       "      <td>67396.0</td>\n",
       "      <td>108245.00</td>\n",
       "      <td>131083.5</td>\n",
       "      <td>153582.50</td>\n",
       "      <td>214420.0</td>\n",
       "    </tr>\n",
       "    <tr>\n",
       "      <th>DevOps Engineer</th>\n",
       "      <td>36.0</td>\n",
       "      <td>159610.194444</td>\n",
       "      <td>35984.341332</td>\n",
       "      <td>103940.0</td>\n",
       "      <td>131318.25</td>\n",
       "      <td>155968.5</td>\n",
       "      <td>184978.25</td>\n",
       "      <td>230965.0</td>\n",
       "    </tr>\n",
       "    <tr>\n",
       "      <th>IT Manager</th>\n",
       "      <td>36.0</td>\n",
       "      <td>160686.055556</td>\n",
       "      <td>34198.249200</td>\n",
       "      <td>87871.0</td>\n",
       "      <td>145854.00</td>\n",
       "      <td>159398.5</td>\n",
       "      <td>187227.25</td>\n",
       "      <td>235235.0</td>\n",
       "    </tr>\n",
       "    <tr>\n",
       "      <th>IT Security Analyst</th>\n",
       "      <td>39.0</td>\n",
       "      <td>134440.820513</td>\n",
       "      <td>38863.676876</td>\n",
       "      <td>70591.0</td>\n",
       "      <td>110864.50</td>\n",
       "      <td>129205.0</td>\n",
       "      <td>153531.00</td>\n",
       "      <td>232972.0</td>\n",
       "    </tr>\n",
       "    <tr>\n",
       "      <th>IT Support Specialist</th>\n",
       "      <td>31.0</td>\n",
       "      <td>87683.806452</td>\n",
       "      <td>24455.386067</td>\n",
       "      <td>43643.0</td>\n",
       "      <td>69931.50</td>\n",
       "      <td>90049.0</td>\n",
       "      <td>102239.50</td>\n",
       "      <td>136355.0</td>\n",
       "    </tr>\n",
       "    <tr>\n",
       "      <th>Network Administrator</th>\n",
       "      <td>31.0</td>\n",
       "      <td>116865.064516</td>\n",
       "      <td>30385.225368</td>\n",
       "      <td>61605.0</td>\n",
       "      <td>93233.00</td>\n",
       "      <td>116964.0</td>\n",
       "      <td>138534.00</td>\n",
       "      <td>181654.0</td>\n",
       "    </tr>\n",
       "    <tr>\n",
       "      <th>Software Engineer</th>\n",
       "      <td>36.0</td>\n",
       "      <td>131357.416667</td>\n",
       "      <td>38248.092780</td>\n",
       "      <td>66956.0</td>\n",
       "      <td>99886.75</td>\n",
       "      <td>132678.5</td>\n",
       "      <td>162473.25</td>\n",
       "      <td>215034.0</td>\n",
       "    </tr>\n",
       "    <tr>\n",
       "      <th>Systems Administrator</th>\n",
       "      <td>38.0</td>\n",
       "      <td>113117.447368</td>\n",
       "      <td>32081.497420</td>\n",
       "      <td>55964.0</td>\n",
       "      <td>94392.00</td>\n",
       "      <td>112383.5</td>\n",
       "      <td>131496.50</td>\n",
       "      <td>190672.0</td>\n",
       "    </tr>\n",
       "    <tr>\n",
       "      <th>Systems Analyst</th>\n",
       "      <td>37.0</td>\n",
       "      <td>127658.189189</td>\n",
       "      <td>37746.843766</td>\n",
       "      <td>72006.0</td>\n",
       "      <td>93558.00</td>\n",
       "      <td>126171.0</td>\n",
       "      <td>153779.00</td>\n",
       "      <td>206324.0</td>\n",
       "    </tr>\n",
       "    <tr>\n",
       "      <th>Web Developer</th>\n",
       "      <td>43.0</td>\n",
       "      <td>108238.116279</td>\n",
       "      <td>34902.475399</td>\n",
       "      <td>57567.0</td>\n",
       "      <td>81649.50</td>\n",
       "      <td>102394.0</td>\n",
       "      <td>129854.50</td>\n",
       "      <td>182770.0</td>\n",
       "    </tr>\n",
       "  </tbody>\n",
       "</table>\n",
       "</div>"
      ],
      "text/plain": [
       "                              count           mean           std       min  \\\n",
       "Position                                                                     \n",
       "Cloud Solutions Architect      28.0  154624.714286  40511.614561   92288.0   \n",
       "Database Administrator (DBA)   38.0  132864.552632  32989.308937   67396.0   \n",
       "DevOps Engineer                36.0  159610.194444  35984.341332  103940.0   \n",
       "IT Manager                     36.0  160686.055556  34198.249200   87871.0   \n",
       "IT Security Analyst            39.0  134440.820513  38863.676876   70591.0   \n",
       "IT Support Specialist          31.0   87683.806452  24455.386067   43643.0   \n",
       "Network Administrator          31.0  116865.064516  30385.225368   61605.0   \n",
       "Software Engineer              36.0  131357.416667  38248.092780   66956.0   \n",
       "Systems Administrator          38.0  113117.447368  32081.497420   55964.0   \n",
       "Systems Analyst                37.0  127658.189189  37746.843766   72006.0   \n",
       "Web Developer                  43.0  108238.116279  34902.475399   57567.0   \n",
       "\n",
       "                                    25%       50%        75%       max  \n",
       "Position                                                                \n",
       "Cloud Solutions Architect     127063.75  147967.0  177814.75  236045.0  \n",
       "Database Administrator (DBA)  108245.00  131083.5  153582.50  214420.0  \n",
       "DevOps Engineer               131318.25  155968.5  184978.25  230965.0  \n",
       "IT Manager                    145854.00  159398.5  187227.25  235235.0  \n",
       "IT Security Analyst           110864.50  129205.0  153531.00  232972.0  \n",
       "IT Support Specialist          69931.50   90049.0  102239.50  136355.0  \n",
       "Network Administrator          93233.00  116964.0  138534.00  181654.0  \n",
       "Software Engineer              99886.75  132678.5  162473.25  215034.0  \n",
       "Systems Administrator          94392.00  112383.5  131496.50  190672.0  \n",
       "Systems Analyst                93558.00  126171.0  153779.00  206324.0  \n",
       "Web Developer                  81649.50  102394.0  129854.50  182770.0  "
      ]
     },
     "execution_count": 275,
     "metadata": {},
     "output_type": "execute_result"
    }
   ],
   "source": [
    "salary_distribution"
   ]
  },
  {
   "cell_type": "markdown",
   "id": "00a6bb41-b941-4496-9aea-94bd7954b8b7",
   "metadata": {},
   "source": [
    "**by this we can conclude man things**\n",
    "> **the most employees are web developers**.\n",
    "\n",
    "> **the most salary varies in Cloud Solutions Architect**\n",
    "\n",
    "> **IT Managers have highest it concludes that as we removed outliers so IT managers gettting paid more we will check it below**"
   ]
  },
  {
   "cell_type": "code",
   "execution_count": 586,
   "id": "8fb6446f-3d56-4ab1-bd73-4b03c9911fad",
   "metadata": {
    "tags": []
   },
   "outputs": [
    {
     "data": {
      "text/html": [
       "<div>\n",
       "<style scoped>\n",
       "    .dataframe tbody tr th:only-of-type {\n",
       "        vertical-align: middle;\n",
       "    }\n",
       "\n",
       "    .dataframe tbody tr th {\n",
       "        vertical-align: top;\n",
       "    }\n",
       "\n",
       "    .dataframe thead th {\n",
       "        text-align: right;\n",
       "    }\n",
       "</style>\n",
       "<table border=\"1\" class=\"dataframe\">\n",
       "  <thead>\n",
       "    <tr style=\"text-align: right;\">\n",
       "      <th></th>\n",
       "      <th>Position</th>\n",
       "      <th>Salary</th>\n",
       "    </tr>\n",
       "  </thead>\n",
       "  <tbody>\n",
       "    <tr>\n",
       "      <th>5</th>\n",
       "      <td>IT Support Specialist</td>\n",
       "      <td>87684.0</td>\n",
       "    </tr>\n",
       "    <tr>\n",
       "      <th>10</th>\n",
       "      <td>Web Developer</td>\n",
       "      <td>108238.0</td>\n",
       "    </tr>\n",
       "    <tr>\n",
       "      <th>8</th>\n",
       "      <td>Systems Administrator</td>\n",
       "      <td>113117.0</td>\n",
       "    </tr>\n",
       "    <tr>\n",
       "      <th>6</th>\n",
       "      <td>Network Administrator</td>\n",
       "      <td>116865.0</td>\n",
       "    </tr>\n",
       "    <tr>\n",
       "      <th>9</th>\n",
       "      <td>Systems Analyst</td>\n",
       "      <td>127658.0</td>\n",
       "    </tr>\n",
       "    <tr>\n",
       "      <th>7</th>\n",
       "      <td>Software Engineer</td>\n",
       "      <td>131357.0</td>\n",
       "    </tr>\n",
       "    <tr>\n",
       "      <th>1</th>\n",
       "      <td>Database Administrator (DBA)</td>\n",
       "      <td>132865.0</td>\n",
       "    </tr>\n",
       "    <tr>\n",
       "      <th>4</th>\n",
       "      <td>IT Security Analyst</td>\n",
       "      <td>134441.0</td>\n",
       "    </tr>\n",
       "    <tr>\n",
       "      <th>0</th>\n",
       "      <td>Cloud Solutions Architect</td>\n",
       "      <td>154625.0</td>\n",
       "    </tr>\n",
       "    <tr>\n",
       "      <th>2</th>\n",
       "      <td>DevOps Engineer</td>\n",
       "      <td>159610.0</td>\n",
       "    </tr>\n",
       "    <tr>\n",
       "      <th>3</th>\n",
       "      <td>IT Manager</td>\n",
       "      <td>160686.0</td>\n",
       "    </tr>\n",
       "  </tbody>\n",
       "</table>\n",
       "</div>"
      ],
      "text/plain": [
       "                        Position    Salary\n",
       "5          IT Support Specialist   87684.0\n",
       "10                 Web Developer  108238.0\n",
       "8          Systems Administrator  113117.0\n",
       "6          Network Administrator  116865.0\n",
       "9                Systems Analyst  127658.0\n",
       "7              Software Engineer  131357.0\n",
       "1   Database Administrator (DBA)  132865.0\n",
       "4            IT Security Analyst  134441.0\n",
       "0      Cloud Solutions Architect  154625.0\n",
       "2                DevOps Engineer  159610.0\n",
       "3                     IT Manager  160686.0"
      ]
     },
     "execution_count": 586,
     "metadata": {},
     "output_type": "execute_result"
    }
   ],
   "source": [
    "salary_max_position = round(filtered_emp_df.groupby('Position')['Salary'].mean())\n",
    "salary_max_position_df = salary_max_position.reset_index()\n",
    "salary_max_position_df.sort_values(by='Salary')"
   ]
  },
  {
   "cell_type": "markdown",
   "id": "9561bad5-f9e2-4f20-87dd-8cc9d3a71f98",
   "metadata": {},
   "source": [
    "**by this we are sure that the max salary is taken IT managers**"
   ]
  },
  {
   "cell_type": "code",
   "execution_count": 477,
   "id": "18d52054-0406-42ea-9516-45cfbd66af70",
   "metadata": {
    "tags": []
   },
   "outputs": [],
   "source": [
    "Avg_Sal_byPosition = filtered_emp_df.groupby('Position')['Salary'].mean()"
   ]
  },
  {
   "cell_type": "code",
   "execution_count": 511,
   "id": "cc255b74-b505-457c-94fc-27f96bb3d178",
   "metadata": {
    "tags": []
   },
   "outputs": [
    {
     "data": {
      "image/png": "[encoded data removed]",
      "text/plain": [
       "<Figure size 1000x600 with 1 Axes>"
      ]
     },
     "metadata": {},
     "output_type": "display_data"
    }
   ],
   "source": [
    "plt.figure(figsize=(10, 6))\n",
    "Avg_Sal_byPosition.plot(kind='bar', color='skyblue')\n",
    "plt.xlabel('Position')\n",
    "plt.ylabel('Average Salary')\n",
    "plt.title('Average Salary by Position')\n",
    "plt.xticks(rotation=80)\n",
    "plt.xticks(fontsize=8)\n",
    "plt.grid(axis='y')\n",
    "plt.show()\n"
   ]
  },
  {
   "cell_type": "code",
   "execution_count": 706,
   "id": "01fd8c3f-5961-46c0-b3dc-2b5cf9b6d6a3",
   "metadata": {
    "tags": []
   },
   "outputs": [
    {
     "data": {
      "text/html": [
       "<div>\n",
       "<style scoped>\n",
       "    .dataframe tbody tr th:only-of-type {\n",
       "        vertical-align: middle;\n",
       "    }\n",
       "\n",
       "    .dataframe tbody tr th {\n",
       "        vertical-align: top;\n",
       "    }\n",
       "\n",
       "    .dataframe thead th {\n",
       "        text-align: right;\n",
       "    }\n",
       "</style>\n",
       "<table border=\"1\" class=\"dataframe\">\n",
       "  <thead>\n",
       "    <tr style=\"text-align: right;\">\n",
       "      <th></th>\n",
       "      <th>Gender</th>\n",
       "      <th>Salary</th>\n",
       "    </tr>\n",
       "  </thead>\n",
       "  <tbody>\n",
       "    <tr>\n",
       "      <th>0</th>\n",
       "      <td>F</td>\n",
       "      <td>131373.173469</td>\n",
       "    </tr>\n",
       "    <tr>\n",
       "      <th>1</th>\n",
       "      <td>M</td>\n",
       "      <td>127659.883249</td>\n",
       "    </tr>\n",
       "  </tbody>\n",
       "</table>\n",
       "</div>"
      ],
      "text/plain": [
       "  Gender         Salary\n",
       "0      F  131373.173469\n",
       "1      M  127659.883249"
      ]
     },
     "execution_count": 706,
     "metadata": {},
     "output_type": "execute_result"
    }
   ],
   "source": [
    "Avg_Sal_byGender = filtered_emp_df.groupby('Gender')['Salary'].mean()\n",
    "Avg_Sal_byGender_df = Avg_Sal_byGender.reset_index()\n",
    "Avg_Sal_byGender_df"
   ]
  },
  {
   "cell_type": "code",
   "execution_count": 712,
   "id": "73d75f19-b91c-484e-9a89-a41563480719",
   "metadata": {
    "tags": []
   },
   "outputs": [],
   "source": [
    "Avg_Exp_worker = filtered_emp_df.groupby('Gender')['Experience (Years)'].mean()"
   ]
  },
  {
   "cell_type": "code",
   "execution_count": 714,
   "id": "98e5451a-71fe-48b6-b066-de76994f526b",
   "metadata": {
    "tags": []
   },
   "outputs": [
    {
     "data": {
      "text/plain": [
       "Gender\n",
       "F    9.678571\n",
       "M    9.390863\n",
       "Name: Experience (Years), dtype: float64"
      ]
     },
     "execution_count": 714,
     "metadata": {},
     "output_type": "execute_result"
    }
   ],
   "source": [
    "Avg_Exp_worker"
   ]
  },
  {
   "cell_type": "markdown",
   "id": "759a6fcf-d7b1-4859-a7d5-e07d6c634768",
   "metadata": {},
   "source": [
    "**It is good that both Man and Women almost getting same pay**"
   ]
  },
  {
   "cell_type": "markdown",
   "id": "4dd08309-6276-48fd-a380-46e957238945",
   "metadata": {},
   "source": [
    "![green-divider](https://user-images.githubusercontent.com/7065401/52071924-c003ad80-2562-11e9-8297-1c6595f8a7ff.png)"
   ]
  },
  {
   "cell_type": "markdown",
   "id": "6479deea-63a1-4c28-81cb-8fcc5fd23860",
   "metadata": {
    "tags": []
   },
   "source": [
    "### **Seperating Employees by Experience**"
   ]
  },
  {
   "cell_type": "code",
   "execution_count": 794,
   "id": "c9e8e004-086a-4bb8-89a9-264a34315855",
   "metadata": {
    "tags": []
   },
   "outputs": [
    {
     "data": {
      "text/plain": [
       "393"
      ]
     },
     "execution_count": 794,
     "metadata": {},
     "output_type": "execute_result"
    }
   ],
   "source": [
    "total_empployees = filtered_emp_df['Salary'].count()\n",
    "# filtered_emp_df['Experience (Years)'].count()\n",
    "total_empployees"
   ]
  },
  {
   "cell_type": "code",
   "execution_count": 798,
   "id": "556e55e6-6456-4da8-ac81-5dcad6569f1e",
   "metadata": {
    "tags": []
   },
   "outputs": [
    {
     "data": {
      "text/html": [
       "<div>\n",
       "<style scoped>\n",
       "    .dataframe tbody tr th:only-of-type {\n",
       "        vertical-align: middle;\n",
       "    }\n",
       "\n",
       "    .dataframe tbody tr th {\n",
       "        vertical-align: top;\n",
       "    }\n",
       "\n",
       "    .dataframe thead th {\n",
       "        text-align: right;\n",
       "    }\n",
       "</style>\n",
       "<table border=\"1\" class=\"dataframe\">\n",
       "  <thead>\n",
       "    <tr style=\"text-align: right;\">\n",
       "      <th></th>\n",
       "      <th>Gender</th>\n",
       "      <th>Experience (Years)</th>\n",
       "      <th>Position</th>\n",
       "      <th>Salary</th>\n",
       "    </tr>\n",
       "    <tr>\n",
       "      <th>ID</th>\n",
       "      <th></th>\n",
       "      <th></th>\n",
       "      <th></th>\n",
       "      <th></th>\n",
       "    </tr>\n",
       "  </thead>\n",
       "  <tbody>\n",
       "    <tr>\n",
       "      <th>3</th>\n",
       "      <td>M</td>\n",
       "      <td>17</td>\n",
       "      <td>Web Developer</td>\n",
       "      <td>181301</td>\n",
       "    </tr>\n",
       "    <tr>\n",
       "      <th>11</th>\n",
       "      <td>F</td>\n",
       "      <td>19</td>\n",
       "      <td>Network Administrator</td>\n",
       "      <td>158856</td>\n",
       "    </tr>\n",
       "    <tr>\n",
       "      <th>13</th>\n",
       "      <td>F</td>\n",
       "      <td>16</td>\n",
       "      <td>Database Administrator (DBA)</td>\n",
       "      <td>137662</td>\n",
       "    </tr>\n",
       "    <tr>\n",
       "      <th>18</th>\n",
       "      <td>F</td>\n",
       "      <td>16</td>\n",
       "      <td>Database Administrator (DBA)</td>\n",
       "      <td>188681</td>\n",
       "    </tr>\n",
       "    <tr>\n",
       "      <th>21</th>\n",
       "      <td>F</td>\n",
       "      <td>20</td>\n",
       "      <td>Network Administrator</td>\n",
       "      <td>139766</td>\n",
       "    </tr>\n",
       "    <tr>\n",
       "      <th>...</th>\n",
       "      <td>...</td>\n",
       "      <td>...</td>\n",
       "      <td>...</td>\n",
       "      <td>...</td>\n",
       "    </tr>\n",
       "    <tr>\n",
       "      <th>379</th>\n",
       "      <td>M</td>\n",
       "      <td>20</td>\n",
       "      <td>IT Manager</td>\n",
       "      <td>190956</td>\n",
       "    </tr>\n",
       "    <tr>\n",
       "      <th>380</th>\n",
       "      <td>F</td>\n",
       "      <td>16</td>\n",
       "      <td>Systems Analyst</td>\n",
       "      <td>149281</td>\n",
       "    </tr>\n",
       "    <tr>\n",
       "      <th>396</th>\n",
       "      <td>F</td>\n",
       "      <td>19</td>\n",
       "      <td>Cloud Solutions Architect</td>\n",
       "      <td>236045</td>\n",
       "    </tr>\n",
       "    <tr>\n",
       "      <th>397</th>\n",
       "      <td>F</td>\n",
       "      <td>20</td>\n",
       "      <td>Web Developer</td>\n",
       "      <td>182770</td>\n",
       "    </tr>\n",
       "    <tr>\n",
       "      <th>399</th>\n",
       "      <td>M</td>\n",
       "      <td>18</td>\n",
       "      <td>Database Administrator (DBA)</td>\n",
       "      <td>129996</td>\n",
       "    </tr>\n",
       "  </tbody>\n",
       "</table>\n",
       "<p>98 rows × 4 columns</p>\n",
       "</div>"
      ],
      "text/plain": [
       "    Gender  Experience (Years)                      Position  Salary\n",
       "ID                                                                  \n",
       "3        M                  17                 Web Developer  181301\n",
       "11       F                  19         Network Administrator  158856\n",
       "13       F                  16  Database Administrator (DBA)  137662\n",
       "18       F                  16  Database Administrator (DBA)  188681\n",
       "21       F                  20         Network Administrator  139766\n",
       "..     ...                 ...                           ...     ...\n",
       "379      M                  20                    IT Manager  190956\n",
       "380      F                  16               Systems Analyst  149281\n",
       "396      F                  19     Cloud Solutions Architect  236045\n",
       "397      F                  20                 Web Developer  182770\n",
       "399      M                  18  Database Administrator (DBA)  129996\n",
       "\n",
       "[98 rows x 4 columns]"
      ]
     },
     "execution_count": 798,
     "metadata": {},
     "output_type": "execute_result"
    }
   ],
   "source": [
    "experienced_emps = filtered_emp_df[filtered_emp_df['Experience (Years)'] >= 15]\n",
    "experienced_emps"
   ]
  },
  {
   "cell_type": "markdown",
   "id": "6a25175e-e773-4251-8041-50ec4392ef70",
   "metadata": {
    "tags": []
   },
   "source": [
    "**so we have 98 employer out of 393 employeer who have more experience than 15 year**"
   ]
  },
  {
   "cell_type": "code",
   "execution_count": 801,
   "id": "1ce38f84-4306-450c-b76e-ee6b342907cb",
   "metadata": {
    "tags": []
   },
   "outputs": [
    {
     "data": {
      "text/html": [
       "<div>\n",
       "<style scoped>\n",
       "    .dataframe tbody tr th:only-of-type {\n",
       "        vertical-align: middle;\n",
       "    }\n",
       "\n",
       "    .dataframe tbody tr th {\n",
       "        vertical-align: top;\n",
       "    }\n",
       "\n",
       "    .dataframe thead th {\n",
       "        text-align: right;\n",
       "    }\n",
       "</style>\n",
       "<table border=\"1\" class=\"dataframe\">\n",
       "  <thead>\n",
       "    <tr style=\"text-align: right;\">\n",
       "      <th></th>\n",
       "      <th>Gender</th>\n",
       "      <th>Experience (Years)</th>\n",
       "      <th>Position</th>\n",
       "      <th>Salary</th>\n",
       "    </tr>\n",
       "    <tr>\n",
       "      <th>ID</th>\n",
       "      <th></th>\n",
       "      <th></th>\n",
       "      <th></th>\n",
       "      <th></th>\n",
       "    </tr>\n",
       "  </thead>\n",
       "  <tbody>\n",
       "    <tr>\n",
       "      <th>1</th>\n",
       "      <td>F</td>\n",
       "      <td>4</td>\n",
       "      <td>DevOps Engineer</td>\n",
       "      <td>109976</td>\n",
       "    </tr>\n",
       "    <tr>\n",
       "      <th>8</th>\n",
       "      <td>M</td>\n",
       "      <td>2</td>\n",
       "      <td>DevOps Engineer</td>\n",
       "      <td>111494</td>\n",
       "    </tr>\n",
       "    <tr>\n",
       "      <th>12</th>\n",
       "      <td>M</td>\n",
       "      <td>2</td>\n",
       "      <td>DevOps Engineer</td>\n",
       "      <td>103940</td>\n",
       "    </tr>\n",
       "    <tr>\n",
       "      <th>17</th>\n",
       "      <td>M</td>\n",
       "      <td>4</td>\n",
       "      <td>IT Security Analyst</td>\n",
       "      <td>111156</td>\n",
       "    </tr>\n",
       "    <tr>\n",
       "      <th>19</th>\n",
       "      <td>F</td>\n",
       "      <td>5</td>\n",
       "      <td>IT Security Analyst</td>\n",
       "      <td>129205</td>\n",
       "    </tr>\n",
       "    <tr>\n",
       "      <th>...</th>\n",
       "      <td>...</td>\n",
       "      <td>...</td>\n",
       "      <td>...</td>\n",
       "      <td>...</td>\n",
       "    </tr>\n",
       "    <tr>\n",
       "      <th>389</th>\n",
       "      <td>F</td>\n",
       "      <td>4</td>\n",
       "      <td>Systems Administrator</td>\n",
       "      <td>102856</td>\n",
       "    </tr>\n",
       "    <tr>\n",
       "      <th>392</th>\n",
       "      <td>F</td>\n",
       "      <td>3</td>\n",
       "      <td>Cloud Solutions Architect</td>\n",
       "      <td>159870</td>\n",
       "    </tr>\n",
       "    <tr>\n",
       "      <th>393</th>\n",
       "      <td>F</td>\n",
       "      <td>1</td>\n",
       "      <td>Network Administrator</td>\n",
       "      <td>79333</td>\n",
       "    </tr>\n",
       "    <tr>\n",
       "      <th>394</th>\n",
       "      <td>M</td>\n",
       "      <td>2</td>\n",
       "      <td>Software Engineer</td>\n",
       "      <td>91029</td>\n",
       "    </tr>\n",
       "    <tr>\n",
       "      <th>395</th>\n",
       "      <td>M</td>\n",
       "      <td>3</td>\n",
       "      <td>IT Support Specialist</td>\n",
       "      <td>54938</td>\n",
       "    </tr>\n",
       "  </tbody>\n",
       "</table>\n",
       "<p>126 rows × 4 columns</p>\n",
       "</div>"
      ],
      "text/plain": [
       "    Gender  Experience (Years)                   Position  Salary\n",
       "ID                                                               \n",
       "1        F                   4            DevOps Engineer  109976\n",
       "8        M                   2            DevOps Engineer  111494\n",
       "12       M                   2            DevOps Engineer  103940\n",
       "17       M                   4        IT Security Analyst  111156\n",
       "19       F                   5        IT Security Analyst  129205\n",
       "..     ...                 ...                        ...     ...\n",
       "389      F                   4      Systems Administrator  102856\n",
       "392      F                   3  Cloud Solutions Architect  159870\n",
       "393      F                   1      Network Administrator   79333\n",
       "394      M                   2          Software Engineer   91029\n",
       "395      M                   3      IT Support Specialist   54938\n",
       "\n",
       "[126 rows x 4 columns]"
      ]
     },
     "execution_count": 801,
     "metadata": {},
     "output_type": "execute_result"
    }
   ],
   "source": [
    "unexperienced_emps = filtered_emp_df[filtered_emp_df['Experience (Years)'] <= 5]\n",
    "unexperienced_emps"
   ]
  },
  {
   "cell_type": "markdown",
   "id": "15ffe9e7-3521-4c3a-b27c-00835b239ac0",
   "metadata": {},
   "source": [
    "**126 employeer have less than 5 year of experience**"
   ]
  },
  {
   "cell_type": "code",
   "execution_count": 805,
   "id": "a0805f39-9a5b-4fd0-8bf6-da26c4c65645",
   "metadata": {
    "tags": []
   },
   "outputs": [
    {
     "data": {
      "text/html": [
       "<div>\n",
       "<style scoped>\n",
       "    .dataframe tbody tr th:only-of-type {\n",
       "        vertical-align: middle;\n",
       "    }\n",
       "\n",
       "    .dataframe tbody tr th {\n",
       "        vertical-align: top;\n",
       "    }\n",
       "\n",
       "    .dataframe thead th {\n",
       "        text-align: right;\n",
       "    }\n",
       "</style>\n",
       "<table border=\"1\" class=\"dataframe\">\n",
       "  <thead>\n",
       "    <tr style=\"text-align: right;\">\n",
       "      <th></th>\n",
       "      <th>Gender</th>\n",
       "      <th>Experience (Years)</th>\n",
       "      <th>Position</th>\n",
       "      <th>Salary</th>\n",
       "    </tr>\n",
       "    <tr>\n",
       "      <th>ID</th>\n",
       "      <th></th>\n",
       "      <th></th>\n",
       "      <th></th>\n",
       "      <th></th>\n",
       "    </tr>\n",
       "  </thead>\n",
       "  <tbody>\n",
       "    <tr>\n",
       "      <th>2</th>\n",
       "      <td>M</td>\n",
       "      <td>6</td>\n",
       "      <td>DevOps Engineer</td>\n",
       "      <td>120088</td>\n",
       "    </tr>\n",
       "    <tr>\n",
       "      <th>4</th>\n",
       "      <td>M</td>\n",
       "      <td>7</td>\n",
       "      <td>Systems Administrator</td>\n",
       "      <td>77530</td>\n",
       "    </tr>\n",
       "    <tr>\n",
       "      <th>5</th>\n",
       "      <td>F</td>\n",
       "      <td>13</td>\n",
       "      <td>Systems Administrator</td>\n",
       "      <td>152397</td>\n",
       "    </tr>\n",
       "    <tr>\n",
       "      <th>6</th>\n",
       "      <td>F</td>\n",
       "      <td>13</td>\n",
       "      <td>Web Developer</td>\n",
       "      <td>114998</td>\n",
       "    </tr>\n",
       "    <tr>\n",
       "      <th>7</th>\n",
       "      <td>F</td>\n",
       "      <td>11</td>\n",
       "      <td>Systems Administrator</td>\n",
       "      <td>82328</td>\n",
       "    </tr>\n",
       "    <tr>\n",
       "      <th>...</th>\n",
       "      <td>...</td>\n",
       "      <td>...</td>\n",
       "      <td>...</td>\n",
       "      <td>...</td>\n",
       "    </tr>\n",
       "    <tr>\n",
       "      <th>385</th>\n",
       "      <td>F</td>\n",
       "      <td>14</td>\n",
       "      <td>Systems Administrator</td>\n",
       "      <td>108497</td>\n",
       "    </tr>\n",
       "    <tr>\n",
       "      <th>390</th>\n",
       "      <td>F</td>\n",
       "      <td>9</td>\n",
       "      <td>IT Security Analyst</td>\n",
       "      <td>107445</td>\n",
       "    </tr>\n",
       "    <tr>\n",
       "      <th>391</th>\n",
       "      <td>M</td>\n",
       "      <td>11</td>\n",
       "      <td>IT Support Specialist</td>\n",
       "      <td>66076</td>\n",
       "    </tr>\n",
       "    <tr>\n",
       "      <th>398</th>\n",
       "      <td>F</td>\n",
       "      <td>9</td>\n",
       "      <td>Network Administrator</td>\n",
       "      <td>85550</td>\n",
       "    </tr>\n",
       "    <tr>\n",
       "      <th>400</th>\n",
       "      <td>F</td>\n",
       "      <td>11</td>\n",
       "      <td>IT Security Analyst</td>\n",
       "      <td>169058</td>\n",
       "    </tr>\n",
       "  </tbody>\n",
       "</table>\n",
       "<p>169 rows × 4 columns</p>\n",
       "</div>"
      ],
      "text/plain": [
       "    Gender  Experience (Years)               Position  Salary\n",
       "ID                                                           \n",
       "2        M                   6        DevOps Engineer  120088\n",
       "4        M                   7  Systems Administrator   77530\n",
       "5        F                  13  Systems Administrator  152397\n",
       "6        F                  13          Web Developer  114998\n",
       "7        F                  11  Systems Administrator   82328\n",
       "..     ...                 ...                    ...     ...\n",
       "385      F                  14  Systems Administrator  108497\n",
       "390      F                   9    IT Security Analyst  107445\n",
       "391      M                  11  IT Support Specialist   66076\n",
       "398      F                   9  Network Administrator   85550\n",
       "400      F                  11    IT Security Analyst  169058\n",
       "\n",
       "[169 rows x 4 columns]"
      ]
     },
     "execution_count": 805,
     "metadata": {},
     "output_type": "execute_result"
    }
   ],
   "source": [
    "midExp_emps = filtered_emp_df[(filtered_emp_df['Experience (Years)'] > 5) & (filtered_emp_df['Experience (Years)'] < 15)]\n",
    "midExp_emps"
   ]
  },
  {
   "cell_type": "markdown",
   "id": "22431d08-1527-4214-a958-7d22cf187c20",
   "metadata": {},
   "source": [
    "**169 employees have more than 5 year of experiance and less than 15 year of experience**"
   ]
  },
  {
   "cell_type": "code",
   "execution_count": 820,
   "id": "ce84de5a-73c8-47b7-9e82-cd7b9759d84b",
   "metadata": {
    "tags": []
   },
   "outputs": [
    {
     "name": "stdout",
     "output_type": "stream",
     "text": [
      "Total employees is 393\n"
     ]
    }
   ],
   "source": [
    "print('Total employees is', experienced_emps['Experience (Years)'].count() + midExp_emps['Experience (Years)'].count() + \n",
    "unexperienced_emps['Experience (Years)'].count())"
   ]
  },
  {
   "cell_type": "code",
   "execution_count": 895,
   "id": "9cae001d-c130-4edd-b3b3-c7fab44ec1bd",
   "metadata": {
    "tags": []
   },
   "outputs": [
    {
     "data": {
      "image/png": "[encoded data removed]",
      "text/plain": [
       "<Figure size 1200x800 with 1 Axes>"
      ]
     },
     "metadata": {},
     "output_type": "display_data"
    }
   ],
   "source": [
    "# Define bins for experience ranges\n",
    "bins = [0, 5, 10, 15]\n",
    "labels = ['0-5', '6-14', '16-20']\n",
    "\n",
    "# Make a copy of the DataFrame to avoid SettingWithCopyWarning\n",
    "df_copy = filtered_emp_df.copy()\n",
    "\n",
    "# Assign experience ranges\n",
    "df_copy['Experience Range'] = pd.cut(df_copy['Experience (Years)'], bins=bins, labels=labels, right=False)\n",
    "\n",
    "# Calculate average salary for each combination of Position, Department, and Experience Range\n",
    "avg_salary_df = df_copy.groupby(['Position', 'Experience Range'])['Salary'].mean().unstack(level='Experience Range')\n",
    "\n",
    "# Plot stacked bar chart\n",
    "avg_salary_df.plot(kind='bar', stacked=True, figsize=(12, 8),\n",
    "                   color=['grey', 'lightblue','skyblue'])\n",
    "\n",
    "\n",
    "plt.xlabel('Position and Department')\n",
    "plt.ylabel('Average Salary')\n",
    "plt.title('Stacked Bar Chart of Average Salary by Position, Department, and Experience Range')\n",
    "plt.xticks(rotation=45)\n",
    "plt.legend(title='Experience Range')\n",
    "plt.show()"
   ]
  },
  {
   "cell_type": "markdown",
   "id": "69a12a93-fe73-463b-ae8f-fe7b217b5605",
   "metadata": {},
   "source": [
    "**so it shows more experience employees have more higher mean salaries that show salaries increased by experiences**"
   ]
  },
  {
   "cell_type": "markdown",
   "id": "f65f98c9-759d-4432-9403-93d54b625c5c",
   "metadata": {},
   "source": [
    "![green-divider](https://user-images.githubusercontent.com/7065401/52071924-c003ad80-2562-11e9-8297-1c6595f8a7ff.png)"
   ]
  },
  {
   "cell_type": "markdown",
   "id": "3ca0aa46-8122-42a0-b484-0038ae9b1167",
   "metadata": {
    "tags": []
   },
   "source": [
    "### Conclusion\n"
   ]
  },
  {
   "cell_type": "markdown",
   "id": "db73bd93-73fd-4f5c-bcc5-89f765f0be96",
   "metadata": {},
   "source": [
    "> IT managers and Dev OPs Engineers are taking more salaries, or as we have more web developer in less salaries so it show web developers are less expensive to company, and we have almost equal ratios of men and women who are working here, and with expereince employees salaries are increasing, **for further decision we need revenues of postions to judge where we have to do focuds more**"
   ]
  }
 ],
 "metadata": {
  "kernelspec": {
   "display_name": "Python 3 (ipykernel)",
   "language": "python",
   "name": "python3"
  },
  "language_info": {
   "codemirror_mode": {
    "name": "ipython",
    "version": 3
   },
   "file_extension": ".py",
   "mimetype": "text/x-python",
   "name": "python",
   "nbconvert_exporter": "python",
   "pygments_lexer": "ipython3",
   "version": "3.11.5"
  }
 },
 "nbformat": 4,
 "nbformat_minor": 5
}
